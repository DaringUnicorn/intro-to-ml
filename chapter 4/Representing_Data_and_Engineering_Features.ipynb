{
 "cells": [
  {
   "cell_type": "markdown",
   "id": "5bbb9467",
   "metadata": {},
   "source": [
    "## Categorical Variables"
   ]
  },
  {
   "cell_type": "markdown",
   "id": "465cafa8",
   "metadata": {},
   "source": [
    "## One-Hot-Encoding (Dummy Variables)"
   ]
  },
  {
   "cell_type": "code",
   "execution_count": 24,
   "id": "a1ba41a3",
   "metadata": {},
   "outputs": [],
   "source": [
    "import numpy as np\n",
    "import pandas as pd\n",
    "import matplotlib.pyplot as plt\n",
    "import mglearn"
   ]
  },
  {
   "cell_type": "code",
   "execution_count": 25,
   "id": "d6fb563f",
   "metadata": {},
   "outputs": [
    {
     "data": {
      "application/vnd.microsoft.datawrangler.viewer.v0+json": {
       "columns": [
        {
         "name": "index",
         "rawType": "int64",
         "type": "integer"
        },
        {
         "name": "age",
         "rawType": "int64",
         "type": "integer"
        },
        {
         "name": "workclass",
         "rawType": "object",
         "type": "string"
        },
        {
         "name": "education",
         "rawType": "object",
         "type": "string"
        },
        {
         "name": "gender",
         "rawType": "object",
         "type": "string"
        },
        {
         "name": "hours-per-week",
         "rawType": "int64",
         "type": "integer"
        },
        {
         "name": "occupation",
         "rawType": "object",
         "type": "string"
        },
        {
         "name": "income",
         "rawType": "object",
         "type": "string"
        }
       ],
       "ref": "7b1ca297-8a51-4294-8081-7b73c164c3f8",
       "rows": [
        [
         "0",
         "39",
         " State-gov",
         " Bachelors",
         " Male",
         "40",
         " Adm-clerical",
         " <=50K"
        ],
        [
         "1",
         "50",
         " Self-emp-not-inc",
         " Bachelors",
         " Male",
         "13",
         " Exec-managerial",
         " <=50K"
        ],
        [
         "2",
         "38",
         " Private",
         " HS-grad",
         " Male",
         "40",
         " Handlers-cleaners",
         " <=50K"
        ],
        [
         "3",
         "53",
         " Private",
         " 11th",
         " Male",
         "40",
         " Handlers-cleaners",
         " <=50K"
        ],
        [
         "4",
         "28",
         " Private",
         " Bachelors",
         " Female",
         "40",
         " Prof-specialty",
         " <=50K"
        ]
       ],
       "shape": {
        "columns": 7,
        "rows": 5
       }
      },
      "text/html": [
       "<div>\n",
       "<style scoped>\n",
       "    .dataframe tbody tr th:only-of-type {\n",
       "        vertical-align: middle;\n",
       "    }\n",
       "\n",
       "    .dataframe tbody tr th {\n",
       "        vertical-align: top;\n",
       "    }\n",
       "\n",
       "    .dataframe thead th {\n",
       "        text-align: right;\n",
       "    }\n",
       "</style>\n",
       "<table border=\"1\" class=\"dataframe\">\n",
       "  <thead>\n",
       "    <tr style=\"text-align: right;\">\n",
       "      <th></th>\n",
       "      <th>age</th>\n",
       "      <th>workclass</th>\n",
       "      <th>education</th>\n",
       "      <th>gender</th>\n",
       "      <th>hours-per-week</th>\n",
       "      <th>occupation</th>\n",
       "      <th>income</th>\n",
       "    </tr>\n",
       "  </thead>\n",
       "  <tbody>\n",
       "    <tr>\n",
       "      <th>0</th>\n",
       "      <td>39</td>\n",
       "      <td>State-gov</td>\n",
       "      <td>Bachelors</td>\n",
       "      <td>Male</td>\n",
       "      <td>40</td>\n",
       "      <td>Adm-clerical</td>\n",
       "      <td>&lt;=50K</td>\n",
       "    </tr>\n",
       "    <tr>\n",
       "      <th>1</th>\n",
       "      <td>50</td>\n",
       "      <td>Self-emp-not-inc</td>\n",
       "      <td>Bachelors</td>\n",
       "      <td>Male</td>\n",
       "      <td>13</td>\n",
       "      <td>Exec-managerial</td>\n",
       "      <td>&lt;=50K</td>\n",
       "    </tr>\n",
       "    <tr>\n",
       "      <th>2</th>\n",
       "      <td>38</td>\n",
       "      <td>Private</td>\n",
       "      <td>HS-grad</td>\n",
       "      <td>Male</td>\n",
       "      <td>40</td>\n",
       "      <td>Handlers-cleaners</td>\n",
       "      <td>&lt;=50K</td>\n",
       "    </tr>\n",
       "    <tr>\n",
       "      <th>3</th>\n",
       "      <td>53</td>\n",
       "      <td>Private</td>\n",
       "      <td>11th</td>\n",
       "      <td>Male</td>\n",
       "      <td>40</td>\n",
       "      <td>Handlers-cleaners</td>\n",
       "      <td>&lt;=50K</td>\n",
       "    </tr>\n",
       "    <tr>\n",
       "      <th>4</th>\n",
       "      <td>28</td>\n",
       "      <td>Private</td>\n",
       "      <td>Bachelors</td>\n",
       "      <td>Female</td>\n",
       "      <td>40</td>\n",
       "      <td>Prof-specialty</td>\n",
       "      <td>&lt;=50K</td>\n",
       "    </tr>\n",
       "  </tbody>\n",
       "</table>\n",
       "</div>"
      ],
      "text/plain": [
       "   age          workclass   education   gender  hours-per-week  \\\n",
       "0   39          State-gov   Bachelors     Male              40   \n",
       "1   50   Self-emp-not-inc   Bachelors     Male              13   \n",
       "2   38            Private     HS-grad     Male              40   \n",
       "3   53            Private        11th     Male              40   \n",
       "4   28            Private   Bachelors   Female              40   \n",
       "\n",
       "           occupation  income  \n",
       "0        Adm-clerical   <=50K  \n",
       "1     Exec-managerial   <=50K  \n",
       "2   Handlers-cleaners   <=50K  \n",
       "3   Handlers-cleaners   <=50K  \n",
       "4      Prof-specialty   <=50K  "
      ]
     },
     "metadata": {},
     "output_type": "display_data"
    }
   ],
   "source": [
    "# The file has no headers naming the columns, so we pass header=None\n",
    "# and provide the column names explicitly.\n",
    "data = pd.read_csv(\"/home/daringunicorn/Documents/GitHub/intro-to-ml/chapter 4/adult.data\", header=None, \n",
    "names=['age', 'workclass', 'fnlwgt', 'education', 'education-num',\n",
    "'marital-status', 'occupation', 'relationship', 'race', 'gender',\n",
    "'capital-gain', 'capital-loss', 'hours-per-week', 'native-country',\n",
    "'income'])\n",
    "\n",
    "# For illustration purposes, we only select some of the columns\n",
    "data = data[[\"age\", \"workclass\", \"education\", \"gender\", \"hours-per-week\", \"occupation\", \"income\"]]\n",
    "\n",
    "# IPython.display allows nice output formatting within the Jupyter notebook\n",
    "display(data.head())"
   ]
  },
  {
   "cell_type": "markdown",
   "id": "35ccb76b",
   "metadata": {},
   "source": [
    "### Checking string-encoded categorical data"
   ]
  },
  {
   "cell_type": "code",
   "execution_count": 26,
   "id": "d86af64b",
   "metadata": {},
   "outputs": [
    {
     "name": "stdout",
     "output_type": "stream",
     "text": [
      "gender\n",
      "Male      21790\n",
      "Female    10771\n",
      "Name: count, dtype: int64\n"
     ]
    }
   ],
   "source": [
    "print(data.gender.value_counts())"
   ]
  },
  {
   "cell_type": "code",
   "execution_count": 27,
   "id": "8e065ae5",
   "metadata": {},
   "outputs": [
    {
     "name": "stdout",
     "output_type": "stream",
     "text": [
      "gender\n",
      "Male      21790\n",
      "Female    10771\n",
      "Name: count, dtype: int64\n"
     ]
    }
   ],
   "source": [
    "print(data[\"gender\"].value_counts())"
   ]
  },
  {
   "cell_type": "code",
   "execution_count": 28,
   "id": "a07239a6",
   "metadata": {},
   "outputs": [
    {
     "name": "stdout",
     "output_type": "stream",
     "text": [
      "Original features:\n",
      " ['age', 'workclass', 'education', 'gender', 'hours-per-week', 'occupation', 'income'] \n",
      "\n",
      "Feature after get_dummies:\n",
      " ['age', 'hours-per-week', 'workclass_ ?', 'workclass_ Federal-gov', 'workclass_ Local-gov', 'workclass_ Never-worked', 'workclass_ Private', 'workclass_ Self-emp-inc', 'workclass_ Self-emp-not-inc', 'workclass_ State-gov', 'workclass_ Without-pay', 'education_ 10th', 'education_ 11th', 'education_ 12th', 'education_ 1st-4th', 'education_ 5th-6th', 'education_ 7th-8th', 'education_ 9th', 'education_ Assoc-acdm', 'education_ Assoc-voc', 'education_ Bachelors', 'education_ Doctorate', 'education_ HS-grad', 'education_ Masters', 'education_ Preschool', 'education_ Prof-school', 'education_ Some-college', 'gender_ Female', 'gender_ Male', 'occupation_ ?', 'occupation_ Adm-clerical', 'occupation_ Armed-Forces', 'occupation_ Craft-repair', 'occupation_ Exec-managerial', 'occupation_ Farming-fishing', 'occupation_ Handlers-cleaners', 'occupation_ Machine-op-inspct', 'occupation_ Other-service', 'occupation_ Priv-house-serv', 'occupation_ Prof-specialty', 'occupation_ Protective-serv', 'occupation_ Sales', 'occupation_ Tech-support', 'occupation_ Transport-moving', 'income_ <=50K', 'income_ >50K']\n"
     ]
    }
   ],
   "source": [
    "print(\"Original features:\\n\", list(data.columns), \"\\n\")\n",
    "data_dummies = pd.get_dummies(data)\n",
    "print(\"Feature after get_dummies:\\n\", list(data_dummies.columns))"
   ]
  },
  {
   "cell_type": "code",
   "execution_count": 29,
   "id": "f899c89b",
   "metadata": {},
   "outputs": [
    {
     "data": {
      "application/vnd.microsoft.datawrangler.viewer.v0+json": {
       "columns": [
        {
         "name": "index",
         "rawType": "int64",
         "type": "integer"
        },
        {
         "name": "age",
         "rawType": "int64",
         "type": "integer"
        },
        {
         "name": "hours-per-week",
         "rawType": "int64",
         "type": "integer"
        },
        {
         "name": "workclass_ ?",
         "rawType": "bool",
         "type": "boolean"
        },
        {
         "name": "workclass_ Federal-gov",
         "rawType": "bool",
         "type": "boolean"
        },
        {
         "name": "workclass_ Local-gov",
         "rawType": "bool",
         "type": "boolean"
        },
        {
         "name": "workclass_ Never-worked",
         "rawType": "bool",
         "type": "boolean"
        },
        {
         "name": "workclass_ Private",
         "rawType": "bool",
         "type": "boolean"
        },
        {
         "name": "workclass_ Self-emp-inc",
         "rawType": "bool",
         "type": "boolean"
        },
        {
         "name": "workclass_ Self-emp-not-inc",
         "rawType": "bool",
         "type": "boolean"
        },
        {
         "name": "workclass_ State-gov",
         "rawType": "bool",
         "type": "boolean"
        },
        {
         "name": "workclass_ Without-pay",
         "rawType": "bool",
         "type": "boolean"
        },
        {
         "name": "education_ 10th",
         "rawType": "bool",
         "type": "boolean"
        },
        {
         "name": "education_ 11th",
         "rawType": "bool",
         "type": "boolean"
        },
        {
         "name": "education_ 12th",
         "rawType": "bool",
         "type": "boolean"
        },
        {
         "name": "education_ 1st-4th",
         "rawType": "bool",
         "type": "boolean"
        },
        {
         "name": "education_ 5th-6th",
         "rawType": "bool",
         "type": "boolean"
        },
        {
         "name": "education_ 7th-8th",
         "rawType": "bool",
         "type": "boolean"
        },
        {
         "name": "education_ 9th",
         "rawType": "bool",
         "type": "boolean"
        },
        {
         "name": "education_ Assoc-acdm",
         "rawType": "bool",
         "type": "boolean"
        },
        {
         "name": "education_ Assoc-voc",
         "rawType": "bool",
         "type": "boolean"
        },
        {
         "name": "education_ Bachelors",
         "rawType": "bool",
         "type": "boolean"
        },
        {
         "name": "education_ Doctorate",
         "rawType": "bool",
         "type": "boolean"
        },
        {
         "name": "education_ HS-grad",
         "rawType": "bool",
         "type": "boolean"
        },
        {
         "name": "education_ Masters",
         "rawType": "bool",
         "type": "boolean"
        },
        {
         "name": "education_ Preschool",
         "rawType": "bool",
         "type": "boolean"
        },
        {
         "name": "education_ Prof-school",
         "rawType": "bool",
         "type": "boolean"
        },
        {
         "name": "education_ Some-college",
         "rawType": "bool",
         "type": "boolean"
        },
        {
         "name": "gender_ Female",
         "rawType": "bool",
         "type": "boolean"
        },
        {
         "name": "gender_ Male",
         "rawType": "bool",
         "type": "boolean"
        },
        {
         "name": "occupation_ ?",
         "rawType": "bool",
         "type": "boolean"
        },
        {
         "name": "occupation_ Adm-clerical",
         "rawType": "bool",
         "type": "boolean"
        },
        {
         "name": "occupation_ Armed-Forces",
         "rawType": "bool",
         "type": "boolean"
        },
        {
         "name": "occupation_ Craft-repair",
         "rawType": "bool",
         "type": "boolean"
        },
        {
         "name": "occupation_ Exec-managerial",
         "rawType": "bool",
         "type": "boolean"
        },
        {
         "name": "occupation_ Farming-fishing",
         "rawType": "bool",
         "type": "boolean"
        },
        {
         "name": "occupation_ Handlers-cleaners",
         "rawType": "bool",
         "type": "boolean"
        },
        {
         "name": "occupation_ Machine-op-inspct",
         "rawType": "bool",
         "type": "boolean"
        },
        {
         "name": "occupation_ Other-service",
         "rawType": "bool",
         "type": "boolean"
        },
        {
         "name": "occupation_ Priv-house-serv",
         "rawType": "bool",
         "type": "boolean"
        },
        {
         "name": "occupation_ Prof-specialty",
         "rawType": "bool",
         "type": "boolean"
        },
        {
         "name": "occupation_ Protective-serv",
         "rawType": "bool",
         "type": "boolean"
        },
        {
         "name": "occupation_ Sales",
         "rawType": "bool",
         "type": "boolean"
        },
        {
         "name": "occupation_ Tech-support",
         "rawType": "bool",
         "type": "boolean"
        },
        {
         "name": "occupation_ Transport-moving",
         "rawType": "bool",
         "type": "boolean"
        },
        {
         "name": "income_ <=50K",
         "rawType": "bool",
         "type": "boolean"
        },
        {
         "name": "income_ >50K",
         "rawType": "bool",
         "type": "boolean"
        }
       ],
       "ref": "54921068-6b7a-422b-9547-a73514f03c3c",
       "rows": [
        [
         "0",
         "39",
         "40",
         "False",
         "False",
         "False",
         "False",
         "False",
         "False",
         "False",
         "True",
         "False",
         "False",
         "False",
         "False",
         "False",
         "False",
         "False",
         "False",
         "False",
         "False",
         "True",
         "False",
         "False",
         "False",
         "False",
         "False",
         "False",
         "False",
         "True",
         "False",
         "True",
         "False",
         "False",
         "False",
         "False",
         "False",
         "False",
         "False",
         "False",
         "False",
         "False",
         "False",
         "False",
         "False",
         "True",
         "False"
        ],
        [
         "1",
         "50",
         "13",
         "False",
         "False",
         "False",
         "False",
         "False",
         "False",
         "True",
         "False",
         "False",
         "False",
         "False",
         "False",
         "False",
         "False",
         "False",
         "False",
         "False",
         "False",
         "True",
         "False",
         "False",
         "False",
         "False",
         "False",
         "False",
         "False",
         "True",
         "False",
         "False",
         "False",
         "False",
         "True",
         "False",
         "False",
         "False",
         "False",
         "False",
         "False",
         "False",
         "False",
         "False",
         "False",
         "True",
         "False"
        ],
        [
         "2",
         "38",
         "40",
         "False",
         "False",
         "False",
         "False",
         "True",
         "False",
         "False",
         "False",
         "False",
         "False",
         "False",
         "False",
         "False",
         "False",
         "False",
         "False",
         "False",
         "False",
         "False",
         "False",
         "True",
         "False",
         "False",
         "False",
         "False",
         "False",
         "True",
         "False",
         "False",
         "False",
         "False",
         "False",
         "False",
         "True",
         "False",
         "False",
         "False",
         "False",
         "False",
         "False",
         "False",
         "False",
         "True",
         "False"
        ],
        [
         "3",
         "53",
         "40",
         "False",
         "False",
         "False",
         "False",
         "True",
         "False",
         "False",
         "False",
         "False",
         "False",
         "True",
         "False",
         "False",
         "False",
         "False",
         "False",
         "False",
         "False",
         "False",
         "False",
         "False",
         "False",
         "False",
         "False",
         "False",
         "False",
         "True",
         "False",
         "False",
         "False",
         "False",
         "False",
         "False",
         "True",
         "False",
         "False",
         "False",
         "False",
         "False",
         "False",
         "False",
         "False",
         "True",
         "False"
        ],
        [
         "4",
         "28",
         "40",
         "False",
         "False",
         "False",
         "False",
         "True",
         "False",
         "False",
         "False",
         "False",
         "False",
         "False",
         "False",
         "False",
         "False",
         "False",
         "False",
         "False",
         "False",
         "True",
         "False",
         "False",
         "False",
         "False",
         "False",
         "False",
         "True",
         "False",
         "False",
         "False",
         "False",
         "False",
         "False",
         "False",
         "False",
         "False",
         "False",
         "False",
         "True",
         "False",
         "False",
         "False",
         "False",
         "True",
         "False"
        ]
       ],
       "shape": {
        "columns": 46,
        "rows": 5
       }
      },
      "text/html": [
       "<div>\n",
       "<style scoped>\n",
       "    .dataframe tbody tr th:only-of-type {\n",
       "        vertical-align: middle;\n",
       "    }\n",
       "\n",
       "    .dataframe tbody tr th {\n",
       "        vertical-align: top;\n",
       "    }\n",
       "\n",
       "    .dataframe thead th {\n",
       "        text-align: right;\n",
       "    }\n",
       "</style>\n",
       "<table border=\"1\" class=\"dataframe\">\n",
       "  <thead>\n",
       "    <tr style=\"text-align: right;\">\n",
       "      <th></th>\n",
       "      <th>age</th>\n",
       "      <th>hours-per-week</th>\n",
       "      <th>workclass_ ?</th>\n",
       "      <th>workclass_ Federal-gov</th>\n",
       "      <th>workclass_ Local-gov</th>\n",
       "      <th>workclass_ Never-worked</th>\n",
       "      <th>workclass_ Private</th>\n",
       "      <th>workclass_ Self-emp-inc</th>\n",
       "      <th>workclass_ Self-emp-not-inc</th>\n",
       "      <th>workclass_ State-gov</th>\n",
       "      <th>...</th>\n",
       "      <th>occupation_ Machine-op-inspct</th>\n",
       "      <th>occupation_ Other-service</th>\n",
       "      <th>occupation_ Priv-house-serv</th>\n",
       "      <th>occupation_ Prof-specialty</th>\n",
       "      <th>occupation_ Protective-serv</th>\n",
       "      <th>occupation_ Sales</th>\n",
       "      <th>occupation_ Tech-support</th>\n",
       "      <th>occupation_ Transport-moving</th>\n",
       "      <th>income_ &lt;=50K</th>\n",
       "      <th>income_ &gt;50K</th>\n",
       "    </tr>\n",
       "  </thead>\n",
       "  <tbody>\n",
       "    <tr>\n",
       "      <th>0</th>\n",
       "      <td>39</td>\n",
       "      <td>40</td>\n",
       "      <td>False</td>\n",
       "      <td>False</td>\n",
       "      <td>False</td>\n",
       "      <td>False</td>\n",
       "      <td>False</td>\n",
       "      <td>False</td>\n",
       "      <td>False</td>\n",
       "      <td>True</td>\n",
       "      <td>...</td>\n",
       "      <td>False</td>\n",
       "      <td>False</td>\n",
       "      <td>False</td>\n",
       "      <td>False</td>\n",
       "      <td>False</td>\n",
       "      <td>False</td>\n",
       "      <td>False</td>\n",
       "      <td>False</td>\n",
       "      <td>True</td>\n",
       "      <td>False</td>\n",
       "    </tr>\n",
       "    <tr>\n",
       "      <th>1</th>\n",
       "      <td>50</td>\n",
       "      <td>13</td>\n",
       "      <td>False</td>\n",
       "      <td>False</td>\n",
       "      <td>False</td>\n",
       "      <td>False</td>\n",
       "      <td>False</td>\n",
       "      <td>False</td>\n",
       "      <td>True</td>\n",
       "      <td>False</td>\n",
       "      <td>...</td>\n",
       "      <td>False</td>\n",
       "      <td>False</td>\n",
       "      <td>False</td>\n",
       "      <td>False</td>\n",
       "      <td>False</td>\n",
       "      <td>False</td>\n",
       "      <td>False</td>\n",
       "      <td>False</td>\n",
       "      <td>True</td>\n",
       "      <td>False</td>\n",
       "    </tr>\n",
       "    <tr>\n",
       "      <th>2</th>\n",
       "      <td>38</td>\n",
       "      <td>40</td>\n",
       "      <td>False</td>\n",
       "      <td>False</td>\n",
       "      <td>False</td>\n",
       "      <td>False</td>\n",
       "      <td>True</td>\n",
       "      <td>False</td>\n",
       "      <td>False</td>\n",
       "      <td>False</td>\n",
       "      <td>...</td>\n",
       "      <td>False</td>\n",
       "      <td>False</td>\n",
       "      <td>False</td>\n",
       "      <td>False</td>\n",
       "      <td>False</td>\n",
       "      <td>False</td>\n",
       "      <td>False</td>\n",
       "      <td>False</td>\n",
       "      <td>True</td>\n",
       "      <td>False</td>\n",
       "    </tr>\n",
       "    <tr>\n",
       "      <th>3</th>\n",
       "      <td>53</td>\n",
       "      <td>40</td>\n",
       "      <td>False</td>\n",
       "      <td>False</td>\n",
       "      <td>False</td>\n",
       "      <td>False</td>\n",
       "      <td>True</td>\n",
       "      <td>False</td>\n",
       "      <td>False</td>\n",
       "      <td>False</td>\n",
       "      <td>...</td>\n",
       "      <td>False</td>\n",
       "      <td>False</td>\n",
       "      <td>False</td>\n",
       "      <td>False</td>\n",
       "      <td>False</td>\n",
       "      <td>False</td>\n",
       "      <td>False</td>\n",
       "      <td>False</td>\n",
       "      <td>True</td>\n",
       "      <td>False</td>\n",
       "    </tr>\n",
       "    <tr>\n",
       "      <th>4</th>\n",
       "      <td>28</td>\n",
       "      <td>40</td>\n",
       "      <td>False</td>\n",
       "      <td>False</td>\n",
       "      <td>False</td>\n",
       "      <td>False</td>\n",
       "      <td>True</td>\n",
       "      <td>False</td>\n",
       "      <td>False</td>\n",
       "      <td>False</td>\n",
       "      <td>...</td>\n",
       "      <td>False</td>\n",
       "      <td>False</td>\n",
       "      <td>False</td>\n",
       "      <td>True</td>\n",
       "      <td>False</td>\n",
       "      <td>False</td>\n",
       "      <td>False</td>\n",
       "      <td>False</td>\n",
       "      <td>True</td>\n",
       "      <td>False</td>\n",
       "    </tr>\n",
       "  </tbody>\n",
       "</table>\n",
       "<p>5 rows × 46 columns</p>\n",
       "</div>"
      ],
      "text/plain": [
       "   age  hours-per-week  workclass_ ?  workclass_ Federal-gov  \\\n",
       "0   39              40         False                   False   \n",
       "1   50              13         False                   False   \n",
       "2   38              40         False                   False   \n",
       "3   53              40         False                   False   \n",
       "4   28              40         False                   False   \n",
       "\n",
       "   workclass_ Local-gov  workclass_ Never-worked  workclass_ Private  \\\n",
       "0                 False                    False               False   \n",
       "1                 False                    False               False   \n",
       "2                 False                    False                True   \n",
       "3                 False                    False                True   \n",
       "4                 False                    False                True   \n",
       "\n",
       "   workclass_ Self-emp-inc  workclass_ Self-emp-not-inc  workclass_ State-gov  \\\n",
       "0                    False                        False                  True   \n",
       "1                    False                         True                 False   \n",
       "2                    False                        False                 False   \n",
       "3                    False                        False                 False   \n",
       "4                    False                        False                 False   \n",
       "\n",
       "   ...  occupation_ Machine-op-inspct  occupation_ Other-service  \\\n",
       "0  ...                          False                      False   \n",
       "1  ...                          False                      False   \n",
       "2  ...                          False                      False   \n",
       "3  ...                          False                      False   \n",
       "4  ...                          False                      False   \n",
       "\n",
       "   occupation_ Priv-house-serv  occupation_ Prof-specialty  \\\n",
       "0                        False                       False   \n",
       "1                        False                       False   \n",
       "2                        False                       False   \n",
       "3                        False                       False   \n",
       "4                        False                        True   \n",
       "\n",
       "   occupation_ Protective-serv  occupation_ Sales  occupation_ Tech-support  \\\n",
       "0                        False              False                     False   \n",
       "1                        False              False                     False   \n",
       "2                        False              False                     False   \n",
       "3                        False              False                     False   \n",
       "4                        False              False                     False   \n",
       "\n",
       "   occupation_ Transport-moving  income_ <=50K  income_ >50K  \n",
       "0                         False           True         False  \n",
       "1                         False           True         False  \n",
       "2                         False           True         False  \n",
       "3                         False           True         False  \n",
       "4                         False           True         False  \n",
       "\n",
       "[5 rows x 46 columns]"
      ]
     },
     "execution_count": 29,
     "metadata": {},
     "output_type": "execute_result"
    }
   ],
   "source": [
    "data_dummies.head()"
   ]
  },
  {
   "cell_type": "code",
   "execution_count": 30,
   "id": "6089316d",
   "metadata": {},
   "outputs": [
    {
     "name": "stdout",
     "output_type": "stream",
     "text": [
      "X.shape(): (32561, 44) y.shape: (32561,)\n"
     ]
    }
   ],
   "source": [
    "features = data_dummies.loc[:, \"age\":\"occupation_ Transport-moving\"]\n",
    "# Extract NumPy arrays\n",
    "X = features.values\n",
    "y = data_dummies[\"income_ >50K\"].values\n",
    "print(\"X.shape(): {} y.shape: {}\".format(X.shape, y.shape))"
   ]
  },
  {
   "cell_type": "code",
   "execution_count": 31,
   "id": "958f43d0",
   "metadata": {},
   "outputs": [
    {
     "name": "stdout",
     "output_type": "stream",
     "text": [
      "Test score: 0.81\n"
     ]
    },
    {
     "name": "stderr",
     "output_type": "stream",
     "text": [
      "/home/daringunicorn/.local/lib/python3.10/site-packages/sklearn/linear_model/_logistic.py:473: ConvergenceWarning: lbfgs failed to converge after 100 iteration(s) (status=1):\n",
      "STOP: TOTAL NO. OF ITERATIONS REACHED LIMIT\n",
      "\n",
      "Increase the number of iterations to improve the convergence (max_iter=100).\n",
      "You might also want to scale the data as shown in:\n",
      "    https://scikit-learn.org/stable/modules/preprocessing.html\n",
      "Please also refer to the documentation for alternative solver options:\n",
      "    https://scikit-learn.org/stable/modules/linear_model.html#logistic-regression\n",
      "  n_iter_i = _check_optimize_result(\n"
     ]
    }
   ],
   "source": [
    "from sklearn.linear_model import LogisticRegression\n",
    "from sklearn.model_selection import train_test_split\n",
    "\n",
    "X_train, X_test, y_train, y_test = train_test_split(X, y, random_state=0)\n",
    "logistic_regression = LogisticRegression()\n",
    "logistic_regression.fit(X_train, y_train)\n",
    "print(\"Test score: {:.2f}\".format(logistic_regression.score(X_test, y_test)))"
   ]
  },
  {
   "cell_type": "markdown",
   "id": "658cb7c8",
   "metadata": {},
   "source": [
    "## Numbers Can Encode Categoricals"
   ]
  },
  {
   "cell_type": "code",
   "execution_count": 32,
   "id": "f15125b2",
   "metadata": {},
   "outputs": [
    {
     "data": {
      "application/vnd.microsoft.datawrangler.viewer.v0+json": {
       "columns": [
        {
         "name": "index",
         "rawType": "int64",
         "type": "integer"
        },
        {
         "name": "Integer Feature",
         "rawType": "int64",
         "type": "integer"
        },
        {
         "name": "Categorical Feature",
         "rawType": "object",
         "type": "string"
        }
       ],
       "ref": "2f6cf443-baf5-4481-b39a-db9e6789e938",
       "rows": [
        [
         "0",
         "0",
         "socks"
        ],
        [
         "1",
         "1",
         "fox"
        ],
        [
         "2",
         "2",
         "socks"
        ],
        [
         "3",
         "1",
         "box"
        ]
       ],
       "shape": {
        "columns": 2,
        "rows": 4
       }
      },
      "text/html": [
       "<div>\n",
       "<style scoped>\n",
       "    .dataframe tbody tr th:only-of-type {\n",
       "        vertical-align: middle;\n",
       "    }\n",
       "\n",
       "    .dataframe tbody tr th {\n",
       "        vertical-align: top;\n",
       "    }\n",
       "\n",
       "    .dataframe thead th {\n",
       "        text-align: right;\n",
       "    }\n",
       "</style>\n",
       "<table border=\"1\" class=\"dataframe\">\n",
       "  <thead>\n",
       "    <tr style=\"text-align: right;\">\n",
       "      <th></th>\n",
       "      <th>Integer Feature</th>\n",
       "      <th>Categorical Feature</th>\n",
       "    </tr>\n",
       "  </thead>\n",
       "  <tbody>\n",
       "    <tr>\n",
       "      <th>0</th>\n",
       "      <td>0</td>\n",
       "      <td>socks</td>\n",
       "    </tr>\n",
       "    <tr>\n",
       "      <th>1</th>\n",
       "      <td>1</td>\n",
       "      <td>fox</td>\n",
       "    </tr>\n",
       "    <tr>\n",
       "      <th>2</th>\n",
       "      <td>2</td>\n",
       "      <td>socks</td>\n",
       "    </tr>\n",
       "    <tr>\n",
       "      <th>3</th>\n",
       "      <td>1</td>\n",
       "      <td>box</td>\n",
       "    </tr>\n",
       "  </tbody>\n",
       "</table>\n",
       "</div>"
      ],
      "text/plain": [
       "   Integer Feature Categorical Feature\n",
       "0                0               socks\n",
       "1                1                 fox\n",
       "2                2               socks\n",
       "3                1                 box"
      ]
     },
     "metadata": {},
     "output_type": "display_data"
    }
   ],
   "source": [
    "# create a DataFrame with an integer feature and a categorical string feature\n",
    "demo_df = pd.DataFrame({\"Integer Feature\": [0, 1, 2, 1],\n",
    "                        \"Categorical Feature\": [\"socks\", \"fox\", \"socks\", \"box\"]})\n",
    "display(demo_df)"
   ]
  },
  {
   "cell_type": "code",
   "execution_count": 33,
   "id": "0a58beb1",
   "metadata": {},
   "outputs": [
    {
     "data": {
      "application/vnd.microsoft.datawrangler.viewer.v0+json": {
       "columns": [
        {
         "name": "index",
         "rawType": "int64",
         "type": "integer"
        },
        {
         "name": "Integer Feature",
         "rawType": "int64",
         "type": "integer"
        },
        {
         "name": "Categorical Feature_box",
         "rawType": "bool",
         "type": "boolean"
        },
        {
         "name": "Categorical Feature_fox",
         "rawType": "bool",
         "type": "boolean"
        },
        {
         "name": "Categorical Feature_socks",
         "rawType": "bool",
         "type": "boolean"
        }
       ],
       "ref": "f74254f9-6405-4ff5-ae57-c2b5874ddf34",
       "rows": [
        [
         "0",
         "0",
         "False",
         "False",
         "True"
        ],
        [
         "1",
         "1",
         "False",
         "True",
         "False"
        ],
        [
         "2",
         "2",
         "False",
         "False",
         "True"
        ],
        [
         "3",
         "1",
         "True",
         "False",
         "False"
        ]
       ],
       "shape": {
        "columns": 4,
        "rows": 4
       }
      },
      "text/html": [
       "<div>\n",
       "<style scoped>\n",
       "    .dataframe tbody tr th:only-of-type {\n",
       "        vertical-align: middle;\n",
       "    }\n",
       "\n",
       "    .dataframe tbody tr th {\n",
       "        vertical-align: top;\n",
       "    }\n",
       "\n",
       "    .dataframe thead th {\n",
       "        text-align: right;\n",
       "    }\n",
       "</style>\n",
       "<table border=\"1\" class=\"dataframe\">\n",
       "  <thead>\n",
       "    <tr style=\"text-align: right;\">\n",
       "      <th></th>\n",
       "      <th>Integer Feature</th>\n",
       "      <th>Categorical Feature_box</th>\n",
       "      <th>Categorical Feature_fox</th>\n",
       "      <th>Categorical Feature_socks</th>\n",
       "    </tr>\n",
       "  </thead>\n",
       "  <tbody>\n",
       "    <tr>\n",
       "      <th>0</th>\n",
       "      <td>0</td>\n",
       "      <td>False</td>\n",
       "      <td>False</td>\n",
       "      <td>True</td>\n",
       "    </tr>\n",
       "    <tr>\n",
       "      <th>1</th>\n",
       "      <td>1</td>\n",
       "      <td>False</td>\n",
       "      <td>True</td>\n",
       "      <td>False</td>\n",
       "    </tr>\n",
       "    <tr>\n",
       "      <th>2</th>\n",
       "      <td>2</td>\n",
       "      <td>False</td>\n",
       "      <td>False</td>\n",
       "      <td>True</td>\n",
       "    </tr>\n",
       "    <tr>\n",
       "      <th>3</th>\n",
       "      <td>1</td>\n",
       "      <td>True</td>\n",
       "      <td>False</td>\n",
       "      <td>False</td>\n",
       "    </tr>\n",
       "  </tbody>\n",
       "</table>\n",
       "</div>"
      ],
      "text/plain": [
       "   Integer Feature  Categorical Feature_box  Categorical Feature_fox  \\\n",
       "0                0                    False                    False   \n",
       "1                1                    False                     True   \n",
       "2                2                    False                    False   \n",
       "3                1                     True                    False   \n",
       "\n",
       "   Categorical Feature_socks  \n",
       "0                       True  \n",
       "1                      False  \n",
       "2                       True  \n",
       "3                      False  "
      ]
     },
     "execution_count": 33,
     "metadata": {},
     "output_type": "execute_result"
    }
   ],
   "source": [
    "\n",
    "pd.get_dummies(demo_df)"
   ]
  },
  {
   "cell_type": "code",
   "execution_count": 34,
   "id": "4798609a",
   "metadata": {},
   "outputs": [
    {
     "data": {
      "application/vnd.microsoft.datawrangler.viewer.v0+json": {
       "columns": [
        {
         "name": "index",
         "rawType": "int64",
         "type": "integer"
        },
        {
         "name": "Integer Feature_0",
         "rawType": "bool",
         "type": "boolean"
        },
        {
         "name": "Integer Feature_1",
         "rawType": "bool",
         "type": "boolean"
        },
        {
         "name": "Integer Feature_2",
         "rawType": "bool",
         "type": "boolean"
        },
        {
         "name": "Categorical Feature_box",
         "rawType": "bool",
         "type": "boolean"
        },
        {
         "name": "Categorical Feature_fox",
         "rawType": "bool",
         "type": "boolean"
        },
        {
         "name": "Categorical Feature_socks",
         "rawType": "bool",
         "type": "boolean"
        }
       ],
       "ref": "f4c856e2-9ccc-423e-8cf2-9c93f1817076",
       "rows": [
        [
         "0",
         "True",
         "False",
         "False",
         "False",
         "False",
         "True"
        ],
        [
         "1",
         "False",
         "True",
         "False",
         "False",
         "True",
         "False"
        ],
        [
         "2",
         "False",
         "False",
         "True",
         "False",
         "False",
         "True"
        ],
        [
         "3",
         "False",
         "True",
         "False",
         "True",
         "False",
         "False"
        ]
       ],
       "shape": {
        "columns": 6,
        "rows": 4
       }
      },
      "text/html": [
       "<div>\n",
       "<style scoped>\n",
       "    .dataframe tbody tr th:only-of-type {\n",
       "        vertical-align: middle;\n",
       "    }\n",
       "\n",
       "    .dataframe tbody tr th {\n",
       "        vertical-align: top;\n",
       "    }\n",
       "\n",
       "    .dataframe thead th {\n",
       "        text-align: right;\n",
       "    }\n",
       "</style>\n",
       "<table border=\"1\" class=\"dataframe\">\n",
       "  <thead>\n",
       "    <tr style=\"text-align: right;\">\n",
       "      <th></th>\n",
       "      <th>Integer Feature_0</th>\n",
       "      <th>Integer Feature_1</th>\n",
       "      <th>Integer Feature_2</th>\n",
       "      <th>Categorical Feature_box</th>\n",
       "      <th>Categorical Feature_fox</th>\n",
       "      <th>Categorical Feature_socks</th>\n",
       "    </tr>\n",
       "  </thead>\n",
       "  <tbody>\n",
       "    <tr>\n",
       "      <th>0</th>\n",
       "      <td>True</td>\n",
       "      <td>False</td>\n",
       "      <td>False</td>\n",
       "      <td>False</td>\n",
       "      <td>False</td>\n",
       "      <td>True</td>\n",
       "    </tr>\n",
       "    <tr>\n",
       "      <th>1</th>\n",
       "      <td>False</td>\n",
       "      <td>True</td>\n",
       "      <td>False</td>\n",
       "      <td>False</td>\n",
       "      <td>True</td>\n",
       "      <td>False</td>\n",
       "    </tr>\n",
       "    <tr>\n",
       "      <th>2</th>\n",
       "      <td>False</td>\n",
       "      <td>False</td>\n",
       "      <td>True</td>\n",
       "      <td>False</td>\n",
       "      <td>False</td>\n",
       "      <td>True</td>\n",
       "    </tr>\n",
       "    <tr>\n",
       "      <th>3</th>\n",
       "      <td>False</td>\n",
       "      <td>True</td>\n",
       "      <td>False</td>\n",
       "      <td>True</td>\n",
       "      <td>False</td>\n",
       "      <td>False</td>\n",
       "    </tr>\n",
       "  </tbody>\n",
       "</table>\n",
       "</div>"
      ],
      "text/plain": [
       "   Integer Feature_0  Integer Feature_1  Integer Feature_2  \\\n",
       "0               True              False              False   \n",
       "1              False               True              False   \n",
       "2              False              False               True   \n",
       "3              False               True              False   \n",
       "\n",
       "   Categorical Feature_box  Categorical Feature_fox  Categorical Feature_socks  \n",
       "0                    False                    False                       True  \n",
       "1                    False                     True                      False  \n",
       "2                    False                    False                       True  \n",
       "3                     True                    False                      False  "
      ]
     },
     "execution_count": 34,
     "metadata": {},
     "output_type": "execute_result"
    }
   ],
   "source": [
    "demo_df[\"Integer Feature\"] = demo_df[\"Integer Feature\"].astype(str)\n",
    "pd.get_dummies(demo_df, columns=[\"Integer Feature\", \"Categorical Feature\"])"
   ]
  },
  {
   "cell_type": "markdown",
   "id": "42f4a607",
   "metadata": {},
   "source": [
    "## Binning, Discretization, Linear Models and Trees"
   ]
  },
  {
   "cell_type": "code",
   "execution_count": 35,
   "id": "de8757ab",
   "metadata": {},
   "outputs": [
    {
     "data": {
      "text/plain": [
       "<matplotlib.legend.Legend at 0x73f2e7d66950>"
      ]
     },
     "execution_count": 35,
     "metadata": {},
     "output_type": "execute_result"
    },
    {
     "data": {
      "image/png": "[encoded data removed]",
      "text/plain": [
       "<Figure size 640x480 with 1 Axes>"
      ]
     },
     "metadata": {},
     "output_type": "display_data"
    }
   ],
   "source": [
    "from sklearn.linear_model import LinearRegression\n",
    "from sklearn.tree import DecisionTreeRegressor\n",
    "\n",
    "X, y = mglearn.datasets.make_wave(n_samples=100)\n",
    "line = np.linspace(-3, 3, 1000, endpoint=False).reshape(-1, 1)\n",
    "\n",
    "decision_tree_regressor = DecisionTreeRegressor(min_samples_split=3).fit(X, y)\n",
    "plt.plot(line, decision_tree_regressor.predict(line), label=\"Decision Tree\")\n",
    "\n",
    "linear_regression = LinearRegression().fit(X, y)\n",
    "plt.plot(line, linear_regression.predict(line), label=\"Linear Regression\")\n",
    "\n",
    "plt.plot(X[:, 0], y, \"o\", c=\"k\")\n",
    "plt.ylabel(\"Regression Output\")\n",
    "plt.xlabel(\"Input Feature\")\n",
    "plt.legend(loc=\"best\")"
   ]
  },
  {
   "cell_type": "code",
   "execution_count": 36,
   "id": "3360d2c7",
   "metadata": {},
   "outputs": [
    {
     "name": "stdout",
     "output_type": "stream",
     "text": [
      "bins: [-3.  -2.4 -1.8 -1.2 -0.6  0.   0.6  1.2  1.8  2.4  3. ]\n"
     ]
    }
   ],
   "source": [
    "bins = np.linspace(-3, 3, 11)\n",
    "print(\"bins: {}\".format(bins))"
   ]
  },
  {
   "cell_type": "code",
   "execution_count": 37,
   "id": "3b3347cd",
   "metadata": {},
   "outputs": [
    {
     "name": "stdout",
     "output_type": "stream",
     "text": [
      "\n",
      "Data points: \n",
      " [[-0.75275929]\n",
      " [ 2.70428584]\n",
      " [ 1.39196365]\n",
      " [ 0.59195091]\n",
      " [-2.06388816]]\n",
      "\n",
      "Bin membership for data points:\n",
      " [[ 4]\n",
      " [10]\n",
      " [ 8]\n",
      " [ 6]\n",
      " [ 2]]\n"
     ]
    }
   ],
   "source": [
    "which_bin = np.digitize(X, bins=bins)\n",
    "print(\"\\nData points: \\n\", X[:5])\n",
    "print(\"\\nBin membership for data points:\\n\", which_bin[:5])"
   ]
  },
  {
   "cell_type": "code",
   "execution_count": 38,
   "id": "7a88a427",
   "metadata": {},
   "outputs": [
    {
     "name": "stdout",
     "output_type": "stream",
     "text": [
      "[[0. 0. 0. 1. 0. 0. 0. 0. 0. 0.]\n",
      " [0. 0. 0. 0. 0. 0. 0. 0. 0. 1.]\n",
      " [0. 0. 0. 0. 0. 0. 0. 1. 0. 0.]\n",
      " [0. 0. 0. 0. 0. 1. 0. 0. 0. 0.]\n",
      " [0. 1. 0. 0. 0. 0. 0. 0. 0. 0.]]\n"
     ]
    }
   ],
   "source": [
    "from sklearn.preprocessing import OneHotEncoder\n",
    "\n",
    "# transform using the OneHotEncoder\n",
    "encoder = OneHotEncoder(sparse_output=False)\n",
    "\n",
    "#encoder.fit finds the unique values that appear in which_bin\n",
    "encoder.fit(which_bin)\n",
    "\n",
    "#transform creates the one-hot encoding\n",
    "X_binned = encoder.transform(which_bin)\n",
    "print(X_binned[:5])"
   ]
  },
  {
   "cell_type": "code",
   "execution_count": 39,
   "id": "873611ed",
   "metadata": {},
   "outputs": [
    {
     "name": "stdout",
     "output_type": "stream",
     "text": [
      "X_binned.shape: (100, 10)\n"
     ]
    }
   ],
   "source": [
    "print(\"X_binned.shape: {}\".format(X_binned.shape))"
   ]
  },
  {
   "cell_type": "code",
   "execution_count": 40,
   "id": "6b362244",
   "metadata": {},
   "outputs": [
    {
     "data": {
      "text/plain": [
       "Text(0.5, 0, 'Input Feature')"
      ]
     },
     "execution_count": 40,
     "metadata": {},
     "output_type": "execute_result"
    },
    {
     "data": {
      "image/png": "[encoded data removed]",
      "text/plain": [
       "<Figure size 640x480 with 1 Axes>"
      ]
     },
     "metadata": {},
     "output_type": "display_data"
    }
   ],
   "source": [
    "line_binned = encoder.transform(np.digitize(line, bins=bins))\n",
    "\n",
    "linear_regression = LinearRegression().fit(X_binned, y)\n",
    "plt.plot(line, linear_regression.predict(line_binned), label=\"Linear Regression Binned\")\n",
    "\n",
    "decision_tree_regressor = DecisionTreeRegressor(min_samples_split=3).fit(X_binned, y)\n",
    "plt.plot(line, decision_tree_regressor.predict(line_binned), label=\"Decision Tree Binned\", linestyle=\"--\")\n",
    "plt.plot(X[:, 0], y, \"o\", c=\"k\")\n",
    "plt.vlines(bins, -3, 3, linewidth=1, alpha=0.2)\n",
    "plt.legend(loc=\"best\")\n",
    "plt.ylabel(\"Regression Output\")\n",
    "plt.xlabel(\"Input Feature\")"
   ]
  },
  {
   "cell_type": "markdown",
   "id": "29f68b84",
   "metadata": {},
   "source": [
    "## Interactions and Polynomials"
   ]
  },
  {
   "cell_type": "code",
   "execution_count": 41,
   "id": "e9bad31e",
   "metadata": {},
   "outputs": [
    {
     "name": "stdout",
     "output_type": "stream",
     "text": [
      "(100, 11)\n"
     ]
    }
   ],
   "source": [
    "X_combined = np.hstack([X, X_binned])\n",
    "print(X_combined.shape)"
   ]
  },
  {
   "cell_type": "code",
   "execution_count": 42,
   "id": "f45e546b",
   "metadata": {},
   "outputs": [
    {
     "data": {
      "text/plain": [
       "[<matplotlib.lines.Line2D at 0x73f2e7862260>]"
      ]
     },
     "execution_count": 42,
     "metadata": {},
     "output_type": "execute_result"
    },
    {
     "data": {
      "image/png": "[encoded data removed]",
      "text/plain": [
       "<Figure size 640x480 with 1 Axes>"
      ]
     },
     "metadata": {},
     "output_type": "display_data"
    }
   ],
   "source": [
    "linear_regression = LinearRegression().fit(X_combined, y)\n",
    "\n",
    "line_combined = np.hstack([line, line_binned])\n",
    "plt.plot(line, linear_regression.predict(line_combined), label=\"Linear Regression Combined\")\n",
    "\n",
    "for bin in bins:\n",
    "    plt.plot([bin, bin], [-3, 3], \":\", c=\"k\")\n",
    "\n",
    "plt.legend(loc=\"best\")\n",
    "plt.ylabel(\"Regression Output\")\n",
    "plt.xlabel(\"Input Feature\")\n",
    "plt.plot(X[:, 0], y, \"o\", c=\"k\")"
   ]
  },
  {
   "cell_type": "code",
   "execution_count": 43,
   "id": "e8e492de",
   "metadata": {},
   "outputs": [
    {
     "name": "stdout",
     "output_type": "stream",
     "text": [
      "(100, 20)\n"
     ]
    }
   ],
   "source": [
    "X_product = np.hstack([X_binned, X * X_binned])\n",
    "print(X_product.shape)\n"
   ]
  },
  {
   "cell_type": "code",
   "execution_count": 44,
   "id": "2dec4aa4",
   "metadata": {},
   "outputs": [
    {
     "data": {
      "text/plain": [
       "<matplotlib.legend.Legend at 0x73f2e6cf4be0>"
      ]
     },
     "execution_count": 44,
     "metadata": {},
     "output_type": "execute_result"
    },
    {
     "data": {
      "image/png": "[encoded data removed]",
      "text/plain": [
       "<Figure size 640x480 with 1 Axes>"
      ]
     },
     "metadata": {},
     "output_type": "display_data"
    }
   ],
   "source": [
    "linear_regression = LinearRegression().fit(X_product, y)\n",
    "\n",
    "line_product = np.hstack(([line_binned, line * line_binned]))\n",
    "plt.plot(line, linear_regression.predict(line_product), label=\"Linear Regression Product\")\n",
    "\n",
    "for bin in bins:\n",
    "     plt.plot([bin, bin], [-3, 3], \":\", c=\"k\")\n",
    "\n",
    "plt.plot(X[:, 0], y, \"o\", c=\"k\")\n",
    "plt.ylabel(\"Regression Output\")\n",
    "plt.xlabel(\"Input Feature\")\n",
    "plt.legend(loc=\"best\")"
   ]
  },
  {
   "cell_type": "code",
   "execution_count": 45,
   "id": "9e6fdf87",
   "metadata": {},
   "outputs": [
    {
     "ename": "SyntaxError",
     "evalue": "invalid syntax (2287770377.py, line 7)",
     "output_type": "error",
     "traceback": [
      "\u001b[0;36m  Cell \u001b[0;32mIn[45], line 7\u001b[0;36m\u001b[0m\n\u001b[0;31m    X_polynomial = polynomial_features.transform(X)T\u001b[0m\n\u001b[0m                                                   ^\u001b[0m\n\u001b[0;31mSyntaxError\u001b[0m\u001b[0;31m:\u001b[0m invalid syntax\n"
     ]
    }
   ],
   "source": [
    "from sklearn.preprocessing import PolynomialFeatures\n",
    "\n",
    "# include polynomials up to x ** 10:\n",
    "# the default \"include_bias=True\" adds a feature that's constantly 1\n",
    "polynomial_features = PolynomialFeatures(degree=10, include_bias=False)\n",
    "polynomial_features.fit(X)\n",
    "X_polynomial = polynomial_features.transform(X)T"
   ]
  },
  {
   "cell_type": "code",
   "execution_count": null,
   "id": "f64e43ff",
   "metadata": {},
   "outputs": [
    {
     "name": "stdout",
     "output_type": "stream",
     "text": [
      "X_polynomial.shape: (100, 10)\n"
     ]
    }
   ],
   "source": [
    "print(\"X_polynomial.shape: {}\".format(X_polynomial.shape))"
   ]
  },
  {
   "cell_type": "code",
   "execution_count": null,
   "id": "1b7c5d00",
   "metadata": {},
   "outputs": [
    {
     "name": "stdout",
     "output_type": "stream",
     "text": [
      "Entries of X:\n",
      "[[-0.75275929]\n",
      " [ 2.70428584]\n",
      " [ 1.39196365]\n",
      " [ 0.59195091]\n",
      " [-2.06388816]]\n",
      "Entries of X_polynomial:\n",
      "[[-7.52759287e-01  5.66646544e-01 -4.26548448e-01  3.21088306e-01\n",
      "  -2.41702204e-01  1.81943579e-01 -1.36959719e-01  1.03097700e-01\n",
      "  -7.76077513e-02  5.84199555e-02]\n",
      " [ 2.70428584e+00  7.31316190e+00  1.97768801e+01  5.34823369e+01\n",
      "   1.44631526e+02  3.91124988e+02  1.05771377e+03  2.86036036e+03\n",
      "   7.73523202e+03  2.09182784e+04]\n",
      " [ 1.39196365e+00  1.93756281e+00  2.69701700e+00  3.75414962e+00\n",
      "   5.22563982e+00  7.27390068e+00  1.01250053e+01  1.40936394e+01\n",
      "   1.96178338e+01  2.73073115e+01]\n",
      " [ 5.91950905e-01  3.50405874e-01  2.07423074e-01  1.22784277e-01\n",
      "   7.26822637e-02  4.30243318e-02  2.54682921e-02  1.50759786e-02\n",
      "   8.92423917e-03  5.28271146e-03]\n",
      " [-2.06388816e+00  4.25963433e+00 -8.79140884e+00  1.81444846e+01\n",
      "  -3.74481869e+01  7.72888694e+01 -1.59515582e+02  3.29222321e+02\n",
      "  -6.79478050e+02  1.40236670e+03]]\n"
     ]
    }
   ],
   "source": [
    "print(\"Entries of X:\\n{}\".format(X[:5]))\n",
    "print(\"Entries of X_polynomial:\\n{}\".format(X_polynomial[:5]))"
   ]
  },
  {
   "cell_type": "code",
   "execution_count": null,
   "id": "f061b397",
   "metadata": {},
   "outputs": [
    {
     "name": "stdout",
     "output_type": "stream",
     "text": [
      "Polynomial feature names:\n",
      "['x0' 'x0^2' 'x0^3' 'x0^4' 'x0^5' 'x0^6' 'x0^7' 'x0^8' 'x0^9' 'x0^10']\n"
     ]
    }
   ],
   "source": [
    "print(\"Polynomial feature names:\\n{}\".format(polynomial_features.get_feature_names_out()))"
   ]
  },
  {
   "cell_type": "code",
   "execution_count": null,
   "id": "0f83b43a",
   "metadata": {},
   "outputs": [
    {
     "data": {
      "text/plain": [
       "<matplotlib.legend.Legend at 0x78b62897ea40>"
      ]
     },
     "execution_count": 31,
     "metadata": {},
     "output_type": "execute_result"
    },
    {
     "data": {
      "image/png": "[encoded data removed]",
      "text/plain": [
       "<Figure size 640x480 with 1 Axes>"
      ]
     },
     "metadata": {},
     "output_type": "display_data"
    }
   ],
   "source": [
    "linear_regression = LinearRegression().fit(X_polynomial, y)\n",
    "\n",
    "line_polynomial = polynomial_features.transform(line)\n",
    "plt.plot(line, linear_regression.predict(line_polynomial), label=\"Polynomial Linear Regression\")\n",
    "plt.plot(X[:, 0], y, \"o\", c=\"k\")\n",
    "plt.ylabel(\"Regression Output\")\n",
    "plt.xlabel(\"Input Feature\")\n",
    "plt.legend(loc=\"best\")"
   ]
  },
  {
   "cell_type": "code",
   "execution_count": null,
   "id": "73b93fe2",
   "metadata": {},
   "outputs": [
    {
     "data": {
      "text/plain": [
       "<matplotlib.legend.Legend at 0x78b628872290>"
      ]
     },
     "execution_count": 32,
     "metadata": {},
     "output_type": "execute_result"
    },
    {
     "data": {
      "image/png": "[encoded data removed]",
      "text/plain": [
       "<Figure size 640x480 with 1 Axes>"
      ]
     },
     "metadata": {},
     "output_type": "display_data"
    }
   ],
   "source": [
    "from sklearn.svm import SVR\n",
    "\n",
    "for gamma in [1, 10]:\n",
    "    svr = SVR(gamma=gamma).fit(X, y)\n",
    "    plt.plot(line, svr.predict(line), label=\"SVR gamma={}\".format(gamma))\n",
    "\n",
    "plt.plot(X[:, 0], y, \"o\", c=\"k\")\n",
    "plt.ylabel(\"Regression Output\")\n",
    "plt.xlabel(\"Input Feature\")\n",
    "plt.legend(loc=\"best\")"
   ]
  },
  {
   "cell_type": "code",
   "execution_count": null,
   "id": "95c50489",
   "metadata": {},
   "outputs": [],
   "source": [
    "from sklearn.datasets import fetch_california_housing\n",
    "from sklearn.model_selection import train_test_split\n",
    "from sklearn.preprocessing import MinMaxScaler\n",
    "\n",
    "X, y = fetch_california_housing(return_X_y=True)\n",
    "X_train, X_test, y_train, y_test = train_test_split(X, y, random_state=0)\n",
    "\n",
    "# rescale data\n",
    "scaler = MinMaxScaler()\n",
    "X_train_scaled = scaler.fit_transform(X_train)\n",
    "X_test_scaled = scaler.transform(X_test)"
   ]
  },
  {
   "cell_type": "code",
   "execution_count": null,
   "id": "83336cc3",
   "metadata": {},
   "outputs": [
    {
     "name": "stdout",
     "output_type": "stream",
     "text": [
      "X_train.shape: (15480, 8)\n",
      "X_train_polynomial.shape: (15480, 45)\n"
     ]
    }
   ],
   "source": [
    "polynomial_features = PolynomialFeatures(degree=2).fit(X_train_scaled)\n",
    "X_train_polynomial = polynomial_features.transform(X_train_scaled)\n",
    "X_test_polynomial = polynomial_features.transform(X_test_scaled)\n",
    "print(\"X_train.shape: {}\".format(X_train.shape))\n",
    "print(\"X_train_polynomial.shape: {}\".format(X_train_polynomial.shape))"
   ]
  },
  {
   "cell_type": "code",
   "execution_count": null,
   "id": "7c76457c",
   "metadata": {},
   "outputs": [
    {
     "name": "stdout",
     "output_type": "stream",
     "text": [
      "Polynomial feature names:\n",
      "['1' 'x0' 'x1' 'x2' 'x3' 'x4' 'x5' 'x6' 'x7' 'x0^2' 'x0 x1' 'x0 x2'\n",
      " 'x0 x3' 'x0 x4' 'x0 x5' 'x0 x6' 'x0 x7' 'x1^2' 'x1 x2' 'x1 x3' 'x1 x4'\n",
      " 'x1 x5' 'x1 x6' 'x1 x7' 'x2^2' 'x2 x3' 'x2 x4' 'x2 x5' 'x2 x6' 'x2 x7'\n",
      " 'x3^2' 'x3 x4' 'x3 x5' 'x3 x6' 'x3 x7' 'x4^2' 'x4 x5' 'x4 x6' 'x4 x7'\n",
      " 'x5^2' 'x5 x6' 'x5 x7' 'x6^2' 'x6 x7' 'x7^2']\n"
     ]
    }
   ],
   "source": [
    "print(\"Polynomial feature names:\\n{}\".format(polynomial_features.get_feature_names_out()))"
   ]
  },
  {
   "cell_type": "code",
   "execution_count": null,
   "id": "97ae2ac2",
   "metadata": {},
   "outputs": [
    {
     "name": "stdout",
     "output_type": "stream",
     "text": [
      "Score without interactions: 0.584\n",
      "Score with interactions: 0.605\n"
     ]
    }
   ],
   "source": [
    "from sklearn.linear_model import Ridge\n",
    "ridge = Ridge().fit(X_train_scaled, y_train)\n",
    "print(\"Score without interactions: {:.3f}\".format(ridge.score(X_test_scaled, y_test)))\n",
    "ridge = Ridge().fit(X_train_polynomial, y_train)\n",
    "print(\"Score with interactions: {:.3f}\".format(ridge.score(X_test_polynomial, y_test)))"
   ]
  },
  {
   "cell_type": "code",
   "execution_count": null,
   "id": "1711f183",
   "metadata": {},
   "outputs": [
    {
     "name": "stdout",
     "output_type": "stream",
     "text": [
      "Score without interactions: 0.793\n",
      "Score with interactions: 0.810\n"
     ]
    }
   ],
   "source": [
    "from sklearn.ensemble import RandomForestRegressor\n",
    "rf = RandomForestRegressor(n_estimators=100).fit(X_train_scaled, y_train)\n",
    "print(\"Score without interactions: {:.3f}\".format(rf.score(X_test_scaled, y_test)))\n",
    "rf = RandomForestRegressor(n_estimators=100).fit(X_train_polynomial, y_train)\n",
    "print(\"Score with interactions: {:.3f}\".format(rf.score(X_test_polynomial, y_test)))"
   ]
  },
  {
   "cell_type": "code",
   "execution_count": null,
   "id": "e377657d",
   "metadata": {},
   "outputs": [],
   "source": [
    "rnd = np.random.RandomState(0)\n",
    "X_org = rnd.normal(size=(1000, 3))\n",
    "w = rnd.normal(size=3)\n",
    "\n",
    "X = rnd.poisson(10 * np.exp(X_org))\n",
    "y = np.dot(X_org, w)"
   ]
  },
  {
   "cell_type": "code",
   "execution_count": null,
   "id": "ae3a71ff",
   "metadata": {},
   "outputs": [
    {
     "name": "stdout",
     "output_type": "stream",
     "text": [
      "Number of feature appearances:\n",
      "[28 38 68 48 61 59 45 56 37 40 35 34 36 26 23 26 27 21 23 23 18 21 10  9\n",
      " 17  9  7 14 12  7  3  8  4  5  5  3  4  2  4  1  1  3  2  5  3  8  2  5\n",
      "  2  1  2  3  3  2  2  3  3  0  1  2  1  0  0  3  1  0  0  0  1  3  0  1\n",
      "  0  2  0  1  1  0  0  0  0  1  0  0  2  2  0  1  1  0  0  0  0  1  1  0\n",
      "  0  0  0  0  0  0  1  0  0  0  0  0  1  1  0  0  1  0  0  0  0  0  0  0\n",
      "  1  0  0  0  0  1  0  0  0  0  0  0  0  0  0  0  0  0  0  0  1]\n"
     ]
    }
   ],
   "source": [
    "print(\"Number of feature appearances:\\n{}\".format(np.bincount(X[:, 0])))"
   ]
  },
  {
   "cell_type": "code",
   "execution_count": null,
   "id": "d69a1669",
   "metadata": {},
   "outputs": [
    {
     "data": {
      "text/plain": [
       "Text(0.5, 0, 'Value')"
      ]
     },
     "execution_count": 46,
     "metadata": {},
     "output_type": "execute_result"
    },
    {
     "data": {
      "image/png": "[encoded data removed]",
      "text/plain": [
       "<Figure size 640x480 with 1 Axes>"
      ]
     },
     "metadata": {},
     "output_type": "display_data"
    }
   ],
   "source": [
    "bins = np.bincount(X[:, 0])\n",
    "plt.bar(range(len(bins)), bins, color='gray')\n",
    "plt.ylabel(\"Number of appearances\")\n",
    "plt.xlabel(\"Value\")"
   ]
  },
  {
   "cell_type": "code",
   "execution_count": null,
   "id": "7b355603",
   "metadata": {},
   "outputs": [
    {
     "name": "stdout",
     "output_type": "stream",
     "text": [
      "Test score: 0.622\n"
     ]
    }
   ],
   "source": [
    "from sklearn.linear_model import Ridge\n",
    "\n",
    "X_train, X_test, y_train, y_test = train_test_split(X, y, random_state=0)\n",
    "score = Ridge().fit(X_train, y_train).score(X_test, y_test)\n",
    "print(\"Test score: {:.3f}\".format(score))"
   ]
  },
  {
   "cell_type": "code",
   "execution_count": null,
   "id": "df9b863f",
   "metadata": {},
   "outputs": [],
   "source": [
    "X_train_log = np.log(X_train + 1)\n",
    "X_test_log = np.log(X_test + 1)"
   ]
  },
  {
   "cell_type": "code",
   "execution_count": null,
   "id": "b152b3c7",
   "metadata": {},
   "outputs": [
    {
     "data": {
      "text/plain": [
       "Text(0.5, 0, 'Value')"
      ]
     },
     "execution_count": 55,
     "metadata": {},
     "output_type": "execute_result"
    },
    {
     "data": {
      "image/png": "[encoded data removed]",
      "text/plain": [
       "<Figure size 640x480 with 1 Axes>"
      ]
     },
     "metadata": {},
     "output_type": "display_data"
    }
   ],
   "source": [
    "plt.hist(np.log(X_train_log[:, 0] + 1), bins=25, color=\"gray\", histtype=\"bar\", edgecolor=\"black\")\n",
    "plt.ylabel(\"Number of Apperances\")\n",
    "plt.xlabel(\"Value\")"
   ]
  },
  {
   "cell_type": "code",
   "execution_count": null,
   "id": "94f72a95",
   "metadata": {},
   "outputs": [
    {
     "ename": "NameError",
     "evalue": "name 'Ridge' is not defined",
     "output_type": "error",
     "traceback": [
      "\u001b[0;31m---------------------------------------------------------------------------\u001b[0m",
      "\u001b[0;31mNameError\u001b[0m                                 Traceback (most recent call last)",
      "Cell \u001b[0;32mIn[23], line 1\u001b[0m\n\u001b[0;32m----> 1\u001b[0m score \u001b[38;5;241m=\u001b[39m \u001b[43mRidge\u001b[49m()\u001b[38;5;241m.\u001b[39mfit(X_train_log, y_train)\u001b[38;5;241m.\u001b[39mscore(X_test_log, y_test)\n\u001b[1;32m      2\u001b[0m \u001b[38;5;28mprint\u001b[39m(\u001b[38;5;124m\"\u001b[39m\u001b[38;5;124mTest score: \u001b[39m\u001b[38;5;132;01m{:.3f}\u001b[39;00m\u001b[38;5;124m\"\u001b[39m\u001b[38;5;241m.\u001b[39mformat(score))\n",
      "\u001b[0;31mNameError\u001b[0m: name 'Ridge' is not defined"
     ]
    }
   ],
   "source": [
    "score = Ridge().fit(X_train_log, y_train).score(X_test_log, y_test)\n",
    "print(\"Test score: {:.3f}\".format(score))"
   ]
  },
  {
   "cell_type": "markdown",
   "id": "dd420a50",
   "metadata": {},
   "source": [
    "## Automatic Feature Selection"
   ]
  },
  {
   "cell_type": "markdown",
   "id": "97f2f7a6",
   "metadata": {},
   "source": [
    "### Univariate Statistics"
   ]
  },
  {
   "cell_type": "code",
   "execution_count": 46,
   "id": "a757916c",
   "metadata": {},
   "outputs": [
    {
     "name": "stdout",
     "output_type": "stream",
     "text": [
      "X_train.shape: (284, 80)\n",
      "X_train_selected.shape: (284, 40)\n"
     ]
    }
   ],
   "source": [
    "from sklearn.datasets import load_breast_cancer\n",
    "from sklearn.feature_selection import SelectPercentile\n",
    "from sklearn.model_selection import train_test_split\n",
    "\n",
    "cancer = load_breast_cancer()\n",
    "\n",
    "# get deterministic random numbers\n",
    "rng = np.random.RandomState(42)\n",
    "noise = rng.normal(size=(len(cancer.data), 50))\n",
    "\n",
    "# add noise features to the data\n",
    "# the first 30 features are from the dataset, the next 50 are noise\n",
    "X_w_noise = np.hstack([cancer.data, noise])\n",
    "\n",
    "X_train, X_test, y_train, y_test = train_test_split(X_w_noise, cancer.target, random_state=0, test_size=0.5)\n",
    "\n",
    "# use f_classif (the default) and SelectPercentile to select 50% of features\n",
    "select = SelectPercentile(percentile=50)\n",
    "select.fit(X_train, y_train)\n",
    "\n",
    "# transform training set\n",
    "X_train_selected = select.transform(X_train)\n",
    "\n",
    "print(\"X_train.shape: {}\".format(X_train.shape))\n",
    "print(\"X_train_selected.shape: {}\".format(X_train_selected.shape))\n"
   ]
  },
  {
   "cell_type": "code",
   "execution_count": 47,
   "id": "c499b26a",
   "metadata": {},
   "outputs": [
    {
     "name": "stdout",
     "output_type": "stream",
     "text": [
      "[ True  True  True  True  True  True  True  True  True False  True False\n",
      "  True  True  True  True  True  True False False  True  True  True  True\n",
      "  True  True  True  True  True  True False False False  True False  True\n",
      " False False  True False False False False  True False False  True False\n",
      " False  True False  True False False False False False False  True False\n",
      "  True False False False False  True False  True False False False False\n",
      "  True  True False  True False False False False]\n"
     ]
    },
    {
     "data": {
      "text/plain": [
       "Text(0.5, 0, 'Sample index')"
      ]
     },
     "execution_count": 47,
     "metadata": {},
     "output_type": "execute_result"
    },
    {
     "data": {
      "image/png": "[encoded data removed]",
      "text/plain": [
       "<Figure size 1600x200 with 1 Axes>"
      ]
     },
     "metadata": {},
     "output_type": "display_data"
    }
   ],
   "source": [
    "mask = select.get_support()\n",
    "print(mask)\n",
    "\n",
    "# visualize the mask -- black is True, white is False\n",
    "plt.matshow(mask.reshape(1, -1), cmap=\"gray_r\")\n",
    "plt.xlabel(\"Sample index\")"
   ]
  },
  {
   "cell_type": "code",
   "execution_count": 48,
   "id": "32d0b783",
   "metadata": {},
   "outputs": [
    {
     "name": "stdout",
     "output_type": "stream",
     "text": [
      "Score with all features: 0.919\n",
      "Score with only selected features: 0.912\n"
     ]
    },
    {
     "name": "stderr",
     "output_type": "stream",
     "text": [
      "/home/daringunicorn/.local/lib/python3.10/site-packages/sklearn/linear_model/_logistic.py:473: ConvergenceWarning: lbfgs failed to converge after 100 iteration(s) (status=1):\n",
      "STOP: TOTAL NO. OF ITERATIONS REACHED LIMIT\n",
      "\n",
      "Increase the number of iterations to improve the convergence (max_iter=100).\n",
      "You might also want to scale the data as shown in:\n",
      "    https://scikit-learn.org/stable/modules/preprocessing.html\n",
      "Please also refer to the documentation for alternative solver options:\n",
      "    https://scikit-learn.org/stable/modules/linear_model.html#logistic-regression\n",
      "  n_iter_i = _check_optimize_result(\n",
      "/home/daringunicorn/.local/lib/python3.10/site-packages/sklearn/linear_model/_logistic.py:473: ConvergenceWarning: lbfgs failed to converge after 100 iteration(s) (status=1):\n",
      "STOP: TOTAL NO. OF ITERATIONS REACHED LIMIT\n",
      "\n",
      "Increase the number of iterations to improve the convergence (max_iter=100).\n",
      "You might also want to scale the data as shown in:\n",
      "    https://scikit-learn.org/stable/modules/preprocessing.html\n",
      "Please also refer to the documentation for alternative solver options:\n",
      "    https://scikit-learn.org/stable/modules/linear_model.html#logistic-regression\n",
      "  n_iter_i = _check_optimize_result(\n"
     ]
    }
   ],
   "source": [
    "from sklearn.linear_model import LogisticRegression\n",
    "\n",
    "# transform test data\n",
    "X_test_selected = select.transform(X_test)\n",
    "\n",
    "logistic_regression = LogisticRegression()\n",
    "logistic_regression.fit(X_train, y_train)\n",
    "\n",
    "print(\"Score with all features: {:.3f}\".format(logistic_regression.score(X_test, y_test)))\n",
    "logistic_regression.fit(X_train_selected, y_train)\n",
    "\n",
    "print(\"Score with only selected features: {:.3f}\".format(logistic_regression.score(X_test_selected, y_test)))"
   ]
  },
  {
   "cell_type": "markdown",
   "id": "74f9a84c",
   "metadata": {},
   "source": [
    "### Model-Based Feature Selection"
   ]
  },
  {
   "cell_type": "code",
   "execution_count": 50,
   "id": "71cf0537",
   "metadata": {},
   "outputs": [],
   "source": [
    "from sklearn.feature_selection import SelectFromModel\n",
    "from sklearn.ensemble import RandomForestClassifier\n",
    "select = SelectFromModel(RandomForestClassifier(n_estimators=100, random_state=42), threshold=\"median\")"
   ]
  },
  {
   "cell_type": "code",
   "execution_count": null,
   "id": "73e2702a",
   "metadata": {},
   "outputs": [],
   "source": [
    "\n"
   ]
  }
 ],
 "metadata": {
  "kernelspec": {
   "display_name": "Python 3",
   "language": "python",
   "name": "python3"
  },
  "language_info": {
   "codemirror_mode": {
    "name": "ipython",
    "version": 3
   },
   "file_extension": ".py",
   "mimetype": "text/x-python",
   "name": "python",
   "nbconvert_exporter": "python",
   "pygments_lexer": "ipython3",
   "version": "3.10.12"
  }
 },
 "nbformat": 4,
 "nbformat_minor": 5
}
