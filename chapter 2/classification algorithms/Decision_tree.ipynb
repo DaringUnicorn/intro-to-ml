{
 "cells": [
  {
   "cell_type": "code",
   "execution_count": null,
   "id": "1fae007e",
   "metadata": {},
   "outputs": [],
   "source": [
    "import pandas as pd\n",
    "import numpy as np\n",
    "import matplotlib.pyplot as plt\n",
    "import mglearn\n"
   ]
  }
 ],
 "metadata": {
  "language_info": {
   "name": "python"
  }
 },
 "nbformat": 4,
 "nbformat_minor": 5
}
